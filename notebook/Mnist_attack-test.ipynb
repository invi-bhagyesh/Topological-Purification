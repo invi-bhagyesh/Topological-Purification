{
 "cells": [
  {
   "cell_type": "code",
   "execution_count": 2,
   "metadata": {
    "execution": {
     "iopub.execute_input": "2025-06-07T05:14:02.981604Z",
     "iopub.status.busy": "2025-06-07T05:14:02.981306Z",
     "iopub.status.idle": "2025-06-07T05:14:02.985772Z",
     "shell.execute_reply": "2025-06-07T05:14:02.984999Z",
     "shell.execute_reply.started": "2025-06-07T05:14:02.981582Z"
    },
    "trusted": true
   },
   "outputs": [],
   "source": [
    "import sys\n",
    "import torch\n",
    "import torch.nn as nn\n",
    "import torch.optim as optim\n",
    "import torch.nn.functional as F\n",
    "import os\n",
    "from torch.utils.data import DataLoader, TensorDataset, random_split\n"
   ]
  },
  {
   "cell_type": "code",
   "execution_count": 3,
   "metadata": {
    "execution": {
     "iopub.execute_input": "2025-06-07T05:14:03.829955Z",
     "iopub.status.busy": "2025-06-07T05:14:03.829268Z",
     "iopub.status.idle": "2025-06-07T05:14:03.833483Z",
     "shell.execute_reply": "2025-06-07T05:14:03.832726Z",
     "shell.execute_reply.started": "2025-06-07T05:14:03.829930Z"
    },
    "trusted": true
   },
   "outputs": [],
   "source": [
    "import sys\n",
    "\n",
    "paths = [\n",
    "    \"/kaggle/input/topological/pytorch/default/1/topological-purification/src/model\",\n",
    "    \"/kaggle/input/topological/pytorch/default/1/topological-purification/src\",\n",
    "]\n",
    "\n",
    "for path in paths:\n",
    "    sys.path.append(path)"
   ]
  },
  {
   "cell_type": "code",
   "execution_count": 4,
   "metadata": {
    "execution": {
     "iopub.execute_input": "2025-06-07T05:14:05.602177Z",
     "iopub.status.busy": "2025-06-07T05:14:05.601546Z",
     "iopub.status.idle": "2025-06-07T05:14:05.606728Z",
     "shell.execute_reply": "2025-06-07T05:14:05.606202Z",
     "shell.execute_reply.started": "2025-06-07T05:14:05.602156Z"
    },
    "trusted": true
   },
   "outputs": [
    {
     "name": "stdout",
     "output_type": "stream",
     "text": [
      "/kaggle\n",
      "['lib', 'input', 'working']\n"
     ]
    }
   ],
   "source": [
    "os.chdir(\"../\")\n",
    "print(os.getcwd())\n",
    "print(os.listdir())\n",
    "os.makedirs(\"my_folder\", exist_ok=True)"
   ]
  },
  {
   "cell_type": "code",
   "execution_count": 5,
   "metadata": {
    "execution": {
     "iopub.execute_input": "2025-06-07T05:14:11.263971Z",
     "iopub.status.busy": "2025-06-07T05:14:11.263675Z",
     "iopub.status.idle": "2025-06-07T05:14:11.284864Z",
     "shell.execute_reply": "2025-06-07T05:14:11.284306Z",
     "shell.execute_reply.started": "2025-06-07T05:14:11.263950Z"
    },
    "trusted": true
   },
   "outputs": [],
   "source": [
    "from DAE_model import DenoisingAutoEncoder as DAE\n",
    "from model import CNNClassifier as clf"
   ]
  },
  {
   "cell_type": "code",
   "execution_count": 16,
   "metadata": {
    "execution": {
     "iopub.execute_input": "2025-06-07T05:25:48.621431Z",
     "iopub.status.busy": "2025-06-07T05:25:48.621165Z",
     "iopub.status.idle": "2025-06-07T05:25:48.625233Z",
     "shell.execute_reply": "2025-06-07T05:25:48.624599Z",
     "shell.execute_reply.started": "2025-06-07T05:25:48.621413Z"
    },
    "trusted": true
   },
   "outputs": [
    {
     "name": "stdout",
     "output_type": "stream",
     "text": [
      "/kaggle/working\n"
     ]
    }
   ],
   "source": [
    "os.chdir(\"/kaggle/working\")\n",
    "print(os.getcwd())"
   ]
  },
  {
   "cell_type": "markdown",
   "metadata": {},
   "source": [
    "## Wandb"
   ]
  },
  {
   "cell_type": "code",
   "execution_count": null,
   "metadata": {
    "trusted": true
   },
   "outputs": [],
   "source": [
    "from kaggle_secrets import UserSecretsClient\n",
    "import wandb\n",
    "\n",
    "user_secrets = UserSecretsClient()\n",
    "wandb_api_key = user_secrets.get_secret(\"add\")\n",
    "\n",
    "wandb.login(key=wandb_api_key)"
   ]
  },
  {
   "cell_type": "code",
   "execution_count": null,
   "metadata": {
    "trusted": true
   },
   "outputs": [],
   "source": []
  },
  {
   "cell_type": "markdown",
   "metadata": {},
   "source": [
    "# Worker"
   ]
  },
  {
   "cell_type": "code",
   "execution_count": 33,
   "metadata": {
    "_kg_hide-input": false,
    "_kg_hide-output": true,
    "execution": {
     "iopub.execute_input": "2025-06-07T05:49:03.522673Z",
     "iopub.status.busy": "2025-06-07T05:49:03.522077Z",
     "iopub.status.idle": "2025-06-07T05:49:03.559008Z",
     "shell.execute_reply": "2025-06-07T05:49:03.558421Z",
     "shell.execute_reply.started": "2025-06-07T05:49:03.522651Z"
    },
    "jupyter": {
     "source_hidden": true
    },
    "trusted": true
   },
   "outputs": [],
   "source": [
    "import sys\n",
    "import matplotlib\n",
    "matplotlib.use('Agg') \n",
    "from scipy.stats import entropy\n",
    "from numpy.linalg import norm\n",
    "from matplotlib.ticker import FuncFormatter\n",
    "import torch\n",
    "import torch.nn as nn\n",
    "import torch.nn.functional as F\n",
    "import numpy as np\n",
    "import pylab\n",
    "import os\n",
    "from utils import prepare_data\n",
    "import utils as utils\n",
    "import matplotlib.pyplot as plt\n",
    "\n",
    "class AEDetector:\n",
    "    def __init__(self, model_class, model_path, p=1, device=None,model_kwargs=None):\n",
    "        \"\"\"\n",
    "        Error-based detector.\n",
    "\n",
    "        model_class: The class of the AE model (e.g., DenoisingAutoEncoder).\n",
    "        model_path: Path to the model's saved state_dict (.pth).\n",
    "        p: Power for error norm (e.g., 1 = L1, 2 = L2).\n",
    "        device: torch.device object or string (\"cuda\" / \"cpu\").\n",
    "        \"\"\"\n",
    "        self.device = device or torch.device(\"cuda\" if torch.cuda.is_available() else \"cpu\")\n",
    "        self.model = model_class(**(model_kwargs or {})).to(self.device)\n",
    "        self.model.load_state_dict(torch.load(model_path, map_location=self.device))\n",
    "        self.model.eval()\n",
    "        self.p = p\n",
    "        \n",
    "    def mark(self, X):\n",
    "        \"\"\"\n",
    "        X: A PyTorch tensor of shape [N, C, H, W] on CPU or GPU.\n",
    "        Returns: 1D numpy array of anomaly scores (reconstruction errors).\n",
    "        \"\"\"\n",
    "        self.model.eval()\n",
    "\n",
    "        with torch.no_grad():\n",
    "            if X.ndim == 4 and X.shape[1:] == torch.Size([28, 28, 1]):\n",
    "                \n",
    "                X = X.permute(0, 3, 1, 2)\n",
    "\n",
    "            X = X.to(self.device)\n",
    "            recon = self.model(X)\n",
    "            diff = torch.abs(X - recon)  # Absolute error\n",
    "            score = torch.mean(torch.pow(diff, self.p), dim=[1, 2, 3])  # Per-sample score\n",
    "            return score.cpu().numpy()  # Convert to NumPy for compatibility\n",
    "\n",
    "    def print(self):\n",
    "        return \"AEDetector:\" + os.path.basename(self.path)\n",
    "\n",
    "\n",
    "class IdReformer:\n",
    "    def __init__(self, path=\"IdentityFunction\"):\n",
    "        \"\"\"\n",
    "        Identity reformer. Returns input unchanged.\n",
    "        \"\"\"\n",
    "        self.path = path\n",
    "        self.heal = lambda X: X  # No transformation\n",
    "\n",
    "    def print(self):\n",
    "        return \"IdReformer:\" + self.path\n",
    "\n",
    "\n",
    "class SimpleReformer:\n",
    "    def __init__(self, model_class, model_path, device=None, model_kwargs=None):\n",
    "        \"\"\"\n",
    "        Autoencoder-based reformer. Applies reconstruction (healing).\n",
    "\n",
    "        model_class: Class definition of the autoencoder.\n",
    "        path: Path to the saved model (.pth).\n",
    "        device: torch.device or str (\"cuda\" or \"cpu\").\n",
    "        \"\"\"\n",
    "        self.device = device or torch.device(\"cuda\" if torch.cuda.is_available() else \"cpu\")\n",
    "        self.model = model_class(**(model_kwargs or {})).to(self.device)\n",
    "        self.model.load_state_dict(torch.load(model_path, map_location=self.device))\n",
    "        self.model.eval()\n",
    "        self.image_shape = self.model.image_shape\n",
    "\n",
    "    def heal(self, X):\n",
    "        \"\"\"\n",
    "        X: Tensor [N, C, H, W] (should be on same device as model)\n",
    "        Returns: Reconstructed input clipped between 0 and 1 (as Torch Tensor)\n",
    "        \"\"\"\n",
    "        self.model.eval()\n",
    "        with torch.no_grad():\n",
    "            X = X.to(self.device)\n",
    "            if X.ndim == 3:  # Single image\n",
    "                if X.shape[-1] == 1:  # HWC format\n",
    "                    X = X.permute(2, 0, 1).unsqueeze(0)  # Convert to NCHW\n",
    "                else:  # CHW format\n",
    "                    X = X.unsqueeze(0)  # Add batch dimension\n",
    "            elif X.ndim == 4:  # Batch of images\n",
    "                if X.shape[-1] == 1:  # NHWC format\n",
    "                    X = X.permute(0, 3, 1, 2)  # Convert to NCHW\n",
    "        \n",
    "        # Ensure proper normalization (autoencoders are sensitive to input range)\n",
    "            if X.max() > 1.0:\n",
    "                X = X / 255.0\n",
    "            print(f\"Input range: [{X.min():.6f}, {X.max():.6f}]\")\n",
    "            print(f\"Input mean: {X.mean():.6f}\")\n",
    "            print(f\"Input std: {X.std():.6f}\")\n",
    "        \n",
    "        # Check intermediate representations\n",
    "            if hasattr(self.model, 'encoder'):\n",
    "                latent = self.model.encoder(X)\n",
    "                print(f\"Latent range: [{latent.min():.6f}, {latent.max():.6f}]\")\n",
    "                print(f\"Latent mean: {latent.mean():.6f}\")\n",
    "                print(f\"Latent near-zero count: {(torch.abs(latent) < 1e-6).sum().item()}/{latent.numel()}\")\n",
    "            recon = self.model(X)\n",
    "            recon = torch.clamp(recon, 0.0, 1.0)\n",
    "            print(f\"Output range: [{recon.min():.6f}, {recon.max():.6f}]\")\n",
    "            print(f\"Output mean: {recon.mean():.6f}\")\n",
    "            return recon\n",
    "\n",
    "    def print(self):\n",
    "        return \"SimpleReformer:\" + os.path.basename(self.path)\n",
    "\n",
    "\n",
    "def JSD(P, Q):\n",
    "    \"\"\"\n",
    "    Jensen-Shannon Divergence between two 1D arrays (P, Q).\n",
    "    P, Q: Numpy arrays representing discrete distributions.\n",
    "    \"\"\"\n",
    "    _P = P / norm(P, ord=1)\n",
    "    _Q = Q / norm(Q, ord=1)\n",
    "    _M = 0.5 * (_P + _Q)\n",
    "    return 0.5 * (entropy(_P, _M) + entropy(_Q, _M))\n",
    "\n",
    "\n",
    "class DBDetector:\n",
    "    def __init__(self, reconstructor, prober, classifier, option=\"jsd\", T=1):\n",
    "        \"\"\"\n",
    "        Divergence-Based Detector using PyTorch.\n",
    "\n",
    "        reconstructor: One reformer (e.g., SimpleReformer instance).\n",
    "        prober: Another reformer (same type).\n",
    "        classifier: Classifier object with classify() method.\n",
    "        option: Distance measure to use, default is 'jsd'.\n",
    "        T: Temperature for softmax (scaling logits).\n",
    "        \"\"\"\n",
    "        self.prober = prober\n",
    "        self.reconstructor = reconstructor\n",
    "        self.classifier = classifier\n",
    "        self.option = option\n",
    "        self.T = T\n",
    "\n",
    "    def mark(self, X):\n",
    "        if self.option == \"jsd\":\n",
    "            return self.mark_jsd(X)\n",
    "        else:\n",
    "            raise NotImplementedError(f\"Only 'jsd' is implemented, got {self.option}\")\n",
    "\n",
    "    def mark_jsd(self, X):\n",
    "        \"\"\"\n",
    "        Returns JSD divergence between classifier outputs on\n",
    "        probed and reconstructed samples.\n",
    "        \n",
    "        X: Input tensor [N, C, H, W] (torch.Tensor)\n",
    "        \"\"\"\n",
    "        Xp = self.prober.heal(X)\n",
    "        Xr = self.reconstructor.heal(X)\n",
    "\n",
    "        Pp = self.classifier.classify(Xp, option=\"prob\", T=self.T)  # numpy array [N, num_classes]\n",
    "        Pr = self.classifier.classify(Xr, option=\"prob\", T=self.T)\n",
    "\n",
    "        marks = [JSD(Pp[i], Pr[i]) for i in range(len(Pr))]\n",
    "        return np.array(marks)\n",
    "\n",
    "    def print(self):\n",
    "        return \"Divergence-Based Detector\"\n",
    "\n",
    "\n",
    "\n",
    "class Classifier:\n",
    "    def __init__(self, model_class, classifier_path, device=None, model_kwargs=None):\n",
    "        \"\"\"\n",
    "        PyTorch classifier wrapper. Assumes the model outputs raw logits.\n",
    "\n",
    "        model_class: A callable (e.g., a class or lambda) that returns the classifier architecture.\n",
    "        classifier_path: Path to saved model weights (.pth).\n",
    "        device: torch.device or string (\"cuda\"/\"cpu\"). Auto-detected if not provided.\n",
    "        model_kwargs: dict of kwargs for model_class constructor\n",
    "        \"\"\"\n",
    "        self.path = classifier_path\n",
    "        self.device = device or torch.device(\"cuda\" if torch.cuda.is_available() else \"cpu\")\n",
    "\n",
    "        self.model = model_class(**(model_kwargs or {})).to(self.device)\n",
    "        self.model.load_state_dict(torch.load(classifier_path, map_location=self.device))\n",
    "        self.model.eval()\n",
    "\n",
    "    def classify(self, X, option=\"logit\", T=1):\n",
    "        \"\"\"\n",
    "        Classify input.\n",
    "\n",
    "        X: Torch tensor [N, C, H, W]\n",
    "        option: \"logit\" to return raw logits, \"prob\" to return softmax probs.\n",
    "        T: Temperature (used only with option=\"prob\")\n",
    "        Returns: NumPy array\n",
    "        \"\"\"\n",
    "        if X.ndim == 4 and X.shape[1:] == torch.Size([28, 28, 1]):\n",
    "            X = X.permute(0, 3, 1, 2)\n",
    "        self.model.eval()\n",
    "        with torch.no_grad():\n",
    "            if isinstance(X, np.ndarray):\n",
    "                X = torch.from_numpy(X).float()\n",
    "\n",
    "            X = X.to(self.device)\n",
    "            logits = self.model(X)\n",
    "\n",
    "            if option == \"logit\":\n",
    "                return logits.cpu().numpy()\n",
    "\n",
    "            elif option == \"prob\":\n",
    "                probs = F.softmax(logits / T, dim=1)\n",
    "                return probs.cpu().numpy()\n",
    "\n",
    "            else:\n",
    "                raise ValueError(f\"Invalid option: {option}. Use 'logit' or 'prob'.\")\n",
    "\n",
    "    def print(self):\n",
    "        return \"Classifier:\" + os.path.basename(self.path)\n",
    "\n",
    "\n",
    "class Operator:\n",
    "    def __init__(self, data, classifier, det_dict, reformer):\n",
    "        \"\"\"\n",
    "        Operator that wraps the data, classifier, detector(s), and reformer logic.\n",
    "\n",
    "        data: MNIST object with .train_loader, .validation_loader, .test_loader\n",
    "        classifier: Classifier object (must have .classify(X) method)\n",
    "        det_dict: Dictionary of detectors, each with .mark(X)\n",
    "        reformer: Reformer object (must have .heal(X))\n",
    "        \"\"\"\n",
    "        self.data = data\n",
    "        self.classifier = classifier\n",
    "        self.det_dict = det_dict\n",
    "        self.reformer = reformer\n",
    "\n",
    "        test_imgs = torch.stack([img for img, _ in data.test_data])\n",
    "        test_labels = torch.tensor([label for _, label in data.test_data])\n",
    "        self.normal = self.operate(AttackData(test_imgs, test_labels, \"Normal\"))\n",
    "\n",
    "    def get_thrs(self, drop_rate):\n",
    "        \"\"\"\n",
    "        Calculates thresholds for filtering from validation set.\n",
    "        drop_rate: Dict mapping detector names to float drop rates.\n",
    "        \"\"\"\n",
    "        thrs = {}\n",
    "        val_imgs = torch.stack([img for img, _ in self.data.validation_data])\n",
    "        for name, detector in self.det_dict.items():\n",
    "            num = int(len(val_imgs) * drop_rate[name])\n",
    "            marks = detector.mark(val_imgs)\n",
    "            sorted_marks = np.sort(marks)\n",
    "            thrs[name] = sorted_marks[-num]\n",
    "        return thrs\n",
    "\n",
    "    def operate(self, untrusted_obj):\n",
    "        \"\"\"\n",
    "        Classifies original and reformed inputs using the classifier.\n",
    "        Returns: Array of (original_correct, reformed_correct) pairs.\n",
    "        \"\"\"\n",
    "        X = untrusted_obj.data\n",
    "        Y_true = untrusted_obj.labels\n",
    "\n",
    "        with torch.no_grad():\n",
    "            X_prime = self.reformer.heal(X)\n",
    "            Y_pred = torch.tensor(np.argmax(self.classifier.classify(X), axis=1))\n",
    "            Y_judgement = (Y_pred == Y_true[:len(X_prime)])\n",
    "\n",
    "            Yp_pred = torch.tensor(np.argmax(self.classifier.classify(X_prime), axis=1))\n",
    "            Yp_judgement = (Yp_pred == Y_true[:len(X_prime)])\n",
    "\n",
    "        return np.array(list(zip(Y_judgement.cpu().numpy(), Yp_judgement.cpu().numpy())))\n",
    "\n",
    "    def filter(self, X, thrs):\n",
    "        \"\"\"\n",
    "        Filters inputs using detector thresholds.\n",
    "        Returns indices that passed all filters.\n",
    "        \"\"\"\n",
    "        all_pass = np.arange(X.shape[0])\n",
    "        collector = {}\n",
    "\n",
    "        for name, detector in self.det_dict.items():\n",
    "            marks = detector.mark(X)\n",
    "            idx_pass = np.argwhere(marks < thrs[name]).flatten()\n",
    "            collector[name] = len(idx_pass)\n",
    "            all_pass = np.intersect1d(all_pass, idx_pass)\n",
    "\n",
    "        return all_pass, collector\n",
    "\n",
    "    def print(self):\n",
    "        components = [self.reformer, self.classifier]\n",
    "        return \" \".join(obj.print() for obj in components)\n",
    "\n",
    "class AttackData:\n",
    "    def __init__(self, examples, labels, name=\"\",directory=\"/kaggle/input/required8\"):\n",
    "        \"\"\"\n",
    "        Wrapper for input data (normal or adversarial).\n",
    "        \n",
    "        examples: Tensor or path to saved object.\n",
    "        labels: Tensor or numpy array of ground truth labels.\n",
    "        name: Identifier string.\n",
    "        \"\"\"\n",
    "        if isinstance(examples, str):\n",
    "            self.data = utils.load_obj(examples,directory)  # Should return a torch tensor or NumPy array\n",
    "            if isinstance(self.data, np.ndarray):\n",
    "                self.data = torch.tensor(self.data, dtype=torch.float32)\n",
    "        else:\n",
    "            self.data = examples if torch.is_tensor(examples) else torch.tensor(examples, dtype=torch.float32)\n",
    "\n",
    "        self.labels = labels if torch.is_tensor(labels) else torch.tensor(labels, dtype=torch.long)\n",
    "        self.name = name\n",
    "\n",
    "    def print(self):\n",
    "        return \"Attack:\" + self.name\n",
    "\n",
    "\n",
    "class Evaluator:\n",
    "    def __init__(self, operator, untrusted_data, graph_dir=\"./graph\"):\n",
    "        \"\"\"\n",
    "        Evaluator for analyzing the defense strategy.\n",
    "\n",
    "        operator: Operator object.\n",
    "        untrusted_data: Adversarial or noisy test dataset wrapped in AttackData.\n",
    "        graph_dir: Path to save graphs.\n",
    "        \"\"\"\n",
    "        self.operator = operator\n",
    "        self.untrusted_data = untrusted_data\n",
    "        self.graph_dir = graph_dir\n",
    "        self.data_package = operator.operate(untrusted_data)\n",
    "\n",
    "    def bind_operator(self, operator):\n",
    "        \"\"\"\n",
    "        Replace current operator and re-evaluate.\n",
    "        \"\"\"\n",
    "        self.operator = operator\n",
    "        self.data_package = operator.operate(self.untrusted_data)\n",
    "\n",
    "    def load_data(self, data):\n",
    "        \"\"\"\n",
    "        Replace current untrusted data and re-evaluate.\n",
    "        \"\"\"\n",
    "        self.untrusted_data = data\n",
    "        self.data_package = self.operator.operate(self.untrusted_data)\n",
    "\n",
    "    def get_normal_acc(self, normal_all_pass):\n",
    "        \"\"\"\n",
    "        Measure classification accuracy on clean data after filtering.\n",
    "\n",
    "        Returns:\n",
    "        - both_acc: Accuracy when both detector and reformer pass.\n",
    "        - det_only_acc: Accuracy with just detector.\n",
    "        - ref_only_acc: Accuracy with just reformer.\n",
    "        - none_acc: Accuracy without any defense.\n",
    "        \"\"\"\n",
    "        normal_tups = self.operator.normal\n",
    "        num_normal = len(normal_tups)\n",
    "        filtered_normal_tups = normal_tups[normal_all_pass]\n",
    "\n",
    "        both_acc = sum(1 for _, XpC in filtered_normal_tups if XpC) / num_normal\n",
    "        det_only_acc = sum(1 for XC, _ in filtered_normal_tups if XC) / num_normal\n",
    "        ref_only_acc = sum(1 for _, XpC in normal_tups if XpC) / num_normal\n",
    "        none_acc = sum(1 for XC, _ in normal_tups if XC) / num_normal\n",
    "\n",
    "        return both_acc, det_only_acc, ref_only_acc, none_acc\n",
    "\n",
    "    def get_attack_acc(self, attack_pass):\n",
    "        \"\"\"\n",
    "        Measure classification accuracy on adversarial data.\n",
    "\n",
    "        Returns same metrics as get_normal_acc.\n",
    "        \"\"\"\n",
    "        attack_tups = self.data_package\n",
    "        num_untrusted = len(attack_tups)\n",
    "        filtered_attack_tups = attack_tups[attack_pass]\n",
    "\n",
    "        both_acc = 1 - sum(1 for _, XpC in filtered_attack_tups if not XpC) / num_untrusted\n",
    "        det_only_acc = 1 - sum(1 for XC, _ in filtered_attack_tups if not XC) / num_untrusted\n",
    "        ref_only_acc = sum(1 for _, XpC in attack_tups if XpC) / num_untrusted\n",
    "        none_acc = sum(1 for XC, _ in attack_tups if XC) / num_untrusted\n",
    "\n",
    "        return both_acc, det_only_acc, ref_only_acc, none_acc\n",
    "\n",
    "    def plot_various_confidences(self, graph_name, drop_rate,\n",
    "                                 idx_file=\"example_idx\",\n",
    "                                 confs=(0.0, 10.0, 20.0, 30.0, 40.0),\n",
    "                                 get_attack_data_name=lambda c: f\"example_fgsm_0.3\",\n",
    "                                 data_dir=\"/kaggle/working/generated_attacks\",\n",
    "                                 idx_file_dir=\"/kaggle/input/required8\"):  # new parameter for index directory\n",
    "    \n",
    "        pylab.rcParams['figure.figsize'] = 6, 4\n",
    "        fig = plt.figure()\n",
    "    \n",
    "        for conf in confs:\n",
    "            attack_data_name = get_attack_data_name(conf)\n",
    "            attack_data = utils.load_obj(attack_data_name, directory=data_dir)\n",
    "            attack_idx = utils.load_obj(idx_file, directory=idx_file_dir)  # Load from different dir\n",
    "            max_idx = len(attack_data) - 1\n",
    "            attack_idx = attack_idx[attack_idx < len(self.untrusted_data.labels)]\n",
    "            X_adv = attack_data[attack_idx]\n",
    "            Y_true = self.untrusted_data.labels[attack_idx]\n",
    "            attack_dataset = AttackData(X_adv, Y_true, name=f\"Conf={conf}\")\n",
    "    \n",
    "            self.load_data(attack_dataset)\n",
    "            print(f\"Confidence {conf} - # attack samples: {len(attack_dataset.data)}\")\n",
    "            thrs = {\n",
    "                \"I\": 0.81,\n",
    "                \"II\": 0.85\n",
    "            }\n",
    "            attack_pass, _ = self.operator.filter(attack_dataset.data, thrs)\n",
    "            print(f\"Passing samples: {len(attack_pass)} out of {len(attack_dataset.data)}\")\n",
    "            accs = self.get_attack_acc(attack_pass)\n",
    "    \n",
    "            plt.plot(conf, accs[0], 'bo')\n",
    "            plt.plot(conf, accs[1], 'go')\n",
    "            plt.plot(conf, accs[2], 'ro')\n",
    "            plt.plot(conf, accs[3], 'ko')\n",
    "    \n",
    "        plt.xlabel(\"Attack Confidence\")\n",
    "        plt.ylabel(\"Classification Accuracy\")\n",
    "        plt.title(\"Defense Performance vs. Attack Confidence\")\n",
    "        plt.legend([\"both\", \"det_only\", \"ref_only\", \"none\"])\n",
    "        plt.grid(True)\n",
    "        graph_path = os.path.join(self.graph_dir, graph_name + \".png\")\n",
    "        os.makedirs(self.graph_dir, exist_ok=True)\n",
    "        plt.savefig(graph_path)\n",
    "        plt.close(fig)"
   ]
  },
  {
   "cell_type": "code",
   "execution_count": 58,
   "metadata": {
    "execution": {
     "iopub.execute_input": "2025-06-07T06:26:07.647371Z",
     "iopub.status.busy": "2025-06-07T06:26:07.647101Z",
     "iopub.status.idle": "2025-06-07T06:26:11.219454Z",
     "shell.execute_reply": "2025-06-07T06:26:11.218768Z",
     "shell.execute_reply.started": "2025-06-07T06:26:07.647350Z"
    },
    "trusted": true
   },
   "outputs": [
    {
     "name": "stdout",
     "output_type": "stream",
     "text": [
      "Input range: [-1.000000, 1.000000]\n",
      "Input mean: -0.734971\n",
      "Input std: 0.620961\n",
      "Latent range: [-21.035671, 1.351443]\n",
      "Latent mean: -0.987502\n",
      "Latent near-zero count: 0/5880000\n",
      "Output range: [0.000000, 1.000000]\n",
      "Output mean: 0.253179\n"
     ]
    }
   ],
   "source": [
    "\n",
    "from dataloader import MNIST\n",
    "from utils import prepare_data, load_obj\n",
    "from DAE_model import DenoisingAutoEncoder\n",
    "from model import CNNClassifier\n",
    "# from worker import Operator, AttackData, Evaluator, AEDetector, SimpleReformer, IdReformer, Classifier\n",
    "\n",
    "# ---- Load models ----\n",
    "detector_I = AEDetector(DenoisingAutoEncoder, \"/kaggle/input/topological/pytorch/default/1/topological-purification/data/MNIST_I.pth\", p=2, model_kwargs={'image_shape': (1, 28, 28), 'structure': [3,\"average\",3], 'v_noise': 0.1, 'activation': 'relu', 'model_dir': './defensive_models/', 'reg_strength': 0.0})\n",
    "detector_II = AEDetector(DenoisingAutoEncoder, \"/kaggle/input/topological/pytorch/default/1/topological-purification/data/MNIST_II.pth\", p=1, model_kwargs={'image_shape': (1, 28, 28), 'structure': [3], 'v_noise': 0.1, 'activation': 'relu', 'model_dir': './defensive_models/', 'reg_strength': 0.0})\n",
    "reformer = SimpleReformer(DenoisingAutoEncoder, \"/kaggle/input/topological/pytorch/default/1/topological-purification/data/MNIST_I.pth\", model_kwargs={'image_shape': (1, 28, 28), 'structure': [3,\"average\",3], 'v_noise': 0.1, 'activation': 'relu', 'model_dir' : './defensive_models/', 'reg_strength': 0.0})\n",
    "id_reformer = IdReformer()\n",
    "classifier = Classifier(CNNClassifier, \"/kaggle/input/topological/pytorch/default/1/topological-purification/logs/example_classifier.pth\",model_kwargs={'params' : [32,32,64,64,200,200]})\n",
    "\n",
    "# ---- Compose detector dictionary ----\n",
    "detector_dict = {\n",
    "    \"I\": detector_I,\n",
    "    \"II\": detector_II\n",
    "}\n",
    "\n",
    "# ---- Load MNIST data ----\n",
    "dataset = MNIST()\n",
    "operator = Operator(dataset, classifier, detector_dict, reformer)\n",
    "\n",
    "\n"
   ]
  },
  {
   "cell_type": "markdown",
   "metadata": {},
   "source": [
    "## FGSM attacks"
   ]
  },
  {
   "cell_type": "code",
   "execution_count": 42,
   "metadata": {
    "execution": {
     "iopub.execute_input": "2025-06-07T06:00:06.548241Z",
     "iopub.status.busy": "2025-06-07T06:00:06.547989Z",
     "iopub.status.idle": "2025-06-07T06:00:08.585278Z",
     "shell.execute_reply": "2025-06-07T06:00:08.584500Z",
     "shell.execute_reply.started": "2025-06-07T06:00:06.548224Z"
    },
    "trusted": true
   },
   "outputs": [],
   "source": [
    "import torch\n",
    "\n",
    "# FGSM attack function\n",
    "def fgsm_attack(model, images, labels, epsilon=0.3):\n",
    "    images = images.clone().detach().to(model.device).requires_grad_(True)\n",
    "    labels = labels.to(model.device)\n",
    "\n",
    "    model.model.eval()  # Ensure classifier model eval mode\n",
    "    outputs = model.model(images)\n",
    "    loss = torch.nn.functional.cross_entropy(outputs, labels)\n",
    "    model.model.zero_grad()\n",
    "    loss.backward()\n",
    "\n",
    "    adv_images = images + epsilon * images.grad.sign()\n",
    "    adv_images = torch.clamp(adv_images, 0, 1)  # MNIST images are in [0,1]\n",
    "    return adv_images.detach().cpu()\n",
    "\n",
    "device = torch.device(\"cuda\" if torch.cuda.is_available() else \"cpu\")\n",
    "classifier.model.to(device)\n",
    "\n",
    "# Generate adversarial examples on full test set\n",
    "adv_images_list = []\n",
    "adv_labels_list = []\n",
    "\n",
    "for imgs, labels in dataset.test_loader:\n",
    "    imgs, labels = imgs.to(device), labels.to(device)\n",
    "    adv_imgs = fgsm_attack(classifier, imgs, labels, epsilon=0.3)\n",
    "    adv_images_list.append(adv_imgs)\n",
    "    adv_labels_list.append(labels.cpu())\n",
    "\n",
    "adv_images = torch.cat(adv_images_list, dim=0)\n",
    "adv_labels = torch.cat(adv_labels_list, dim=0)\n",
    "\n",
    "# Wrap in AttackData\n",
    "test_attack = AttackData(adv_images, adv_labels, name=\"FGSM ε=0.3\")\n",
    "\n"
   ]
  },
  {
   "cell_type": "code",
   "execution_count": null,
   "metadata": {
    "trusted": true
   },
   "outputs": [],
   "source": [
    "# Evaluate defense\n",
    "evaluator = Evaluator(operator, test_attack)\n",
    "evaluator.plot_various_confidences(\n",
    "    graph_name=\"defense_fgsm_full_test\",\n",
    "    drop_rate={\"I\": 0.1, \"II\": 0.1},\n",
    "    confs=(0.3,),  # just this epsilon\n",
    "    get_attack_data_name=lambda conf: \"FGSM_full_test\"  # dummy name\n",
    ")"
   ]
  },
  {
   "cell_type": "code",
   "execution_count": 44,
   "metadata": {
    "execution": {
     "iopub.execute_input": "2025-06-07T06:02:59.088088Z",
     "iopub.status.busy": "2025-06-07T06:02:59.087586Z",
     "iopub.status.idle": "2025-06-07T06:02:59.145482Z",
     "shell.execute_reply": "2025-06-07T06:02:59.144938Z",
     "shell.execute_reply.started": "2025-06-07T06:02:59.088066Z"
    },
    "trusted": true
   },
   "outputs": [],
   "source": [
    "import pickle\n",
    "import os\n",
    "\n",
    "save_path = \"/kaggle/working/generated_fgsm\"\n",
    "os.makedirs(save_path, exist_ok=True)\n",
    "\n",
    "# Save images\n",
    "with open(os.path.join(save_path, \"example_fgsm_0.3.pkl\"), \"wb\") as f:\n",
    "    pickle.dump(adv_images.numpy(), f)\n",
    "\n",
    "# Save labels\n",
    "with open(os.path.join(save_path, \"example_fgsm_labels.pkl\"), \"wb\") as f:\n",
    "    pickle.dump(adv_labels.numpy(), f)"
   ]
  },
  {
   "cell_type": "code",
   "execution_count": 43,
   "metadata": {
    "execution": {
     "iopub.execute_input": "2025-06-07T06:00:08.586753Z",
     "iopub.status.busy": "2025-06-07T06:00:08.586508Z",
     "iopub.status.idle": "2025-06-07T06:00:08.652790Z",
     "shell.execute_reply": "2025-06-07T06:00:08.652193Z",
     "shell.execute_reply.started": "2025-06-07T06:00:08.586731Z"
    },
    "trusted": true
   },
   "outputs": [
    {
     "name": "stdout",
     "output_type": "stream",
     "text": [
      "Both detector+reformer accuracy: 0.9347\n",
      "Detector-only accuracy: 0.9890\n",
      "Reformer-only accuracy: 0.0974\n",
      "No defense accuracy: 0.7591\n"
     ]
    }
   ],
   "source": [
    "# Use thresholds based on your detector behavior (tune as needed)\n",
    "thresholds = {\"I\": 0.85, \"II\": 0.85}\n",
    "\n",
    "# Filter adversarial data with detectors\n",
    "attack_pass, _ = operator.filter(test_attack.data, thresholds)\n",
    "\n",
    "# Get accuracy metrics\n",
    "both_acc, det_only_acc, ref_only_acc, none_acc = evaluator.get_attack_acc(attack_pass)\n",
    "\n",
    "print(f\"Both detector+reformer accuracy: {both_acc:.4f}\")\n",
    "print(f\"Detector-only accuracy: {det_only_acc:.4f}\")\n",
    "print(f\"Reformer-only accuracy: {ref_only_acc:.4f}\")\n",
    "print(f\"No defense accuracy: {none_acc:.4f}\")"
   ]
  },
  {
   "cell_type": "code",
   "execution_count": 41,
   "metadata": {
    "execution": {
     "iopub.execute_input": "2025-06-07T05:59:38.341767Z",
     "iopub.status.busy": "2025-06-07T05:59:38.341500Z",
     "iopub.status.idle": "2025-06-07T05:59:38.525276Z",
     "shell.execute_reply": "2025-06-07T05:59:38.524656Z",
     "shell.execute_reply.started": "2025-06-07T05:59:38.341747Z"
    },
    "trusted": true
   },
   "outputs": [
    {
     "data": {
      "image/png": "[encoded data removed]",
      "text/plain": [
       "<Figure size 800x500 with 1 Axes>"
      ]
     },
     "metadata": {},
     "output_type": "display_data"
    }
   ],
   "source": [
    "import matplotlib.pyplot as plt\n",
    "\n",
    "def plot_defense_performance(evaluator, test_attack, operator, thresholds):\n",
    "    attack_pass, _ = operator.filter(test_attack.data, thresholds)\n",
    "    both_acc, det_only_acc, ref_only_acc, none_acc = evaluator.get_attack_acc(attack_pass)\n",
    "\n",
    "    labels = [\"Both\", \"Detector Only\", \"Reformer Only\", \"None\"]\n",
    "    accuracies = [both_acc, det_only_acc, ref_only_acc, none_acc]\n",
    "\n",
    "    plt.figure(figsize=(8, 5))\n",
    "    bars = plt.bar(labels, accuracies, color=['blue', 'green', 'red', 'black'])\n",
    "    plt.ylim([0, 1])\n",
    "    plt.ylabel(\"Classification Accuracy\")\n",
    "    plt.title(\"Defense Performance on FGSM Adversarial Examples\")\n",
    "\n",
    "    for bar, acc in zip(bars, accuracies):\n",
    "        plt.text(bar.get_x() + bar.get_width()/2, bar.get_height() - 0.05,\n",
    "                 f\"{acc:.2%}\", ha='center', color='white', fontsize=12)\n",
    "\n",
    "    plt.grid(axis='y')\n",
    "    plt.show()\n",
    "\n",
    "# Call once\n",
    "thresholds = {\"I\": 0.85, \"II\": 0.85}\n",
    "plot_defense_performance(evaluator, test_attack, operator, thresholds)"
   ]
  },
  {
   "cell_type": "code",
   "execution_count": 45,
   "metadata": {
    "execution": {
     "iopub.execute_input": "2025-06-07T06:05:16.627823Z",
     "iopub.status.busy": "2025-06-07T06:05:16.627200Z",
     "iopub.status.idle": "2025-06-07T06:05:16.777423Z",
     "shell.execute_reply": "2025-06-07T06:05:16.776822Z",
     "shell.execute_reply.started": "2025-06-07T06:05:16.627789Z"
    },
    "trusted": true
   },
   "outputs": [
    {
     "data": {
      "image/png": "[encoded data removed]",
      "text/plain": [
       "<Figure size 800x400 with 2 Axes>"
      ]
     },
     "metadata": {},
     "output_type": "display_data"
    }
   ],
   "source": [
    "import matplotlib.pyplot as plt\n",
    "\n",
    "# Pick a sample index to visualize\n",
    "i = 0\n",
    "\n",
    "orig = dataset.test_loader.dataset[i][0].squeeze().numpy()\n",
    "adv  = adv_images[i].squeeze().numpy()\n",
    "\n",
    "plt.figure(figsize=(8, 4))\n",
    "\n",
    "plt.subplot(1, 2, 1)\n",
    "plt.title(\"Original\")\n",
    "plt.imshow(orig, cmap=\"gray\")\n",
    "plt.axis(\"off\")\n",
    "\n",
    "plt.subplot(1, 2, 2)\n",
    "plt.title(\"Adversarial\")\n",
    "plt.imshow(adv, cmap=\"gray\")\n",
    "plt.axis(\"off\")\n",
    "\n",
    "plt.tight_layout()\n",
    "plt.show()"
   ]
  },
  {
   "cell_type": "code",
   "execution_count": 46,
   "metadata": {
    "execution": {
     "iopub.execute_input": "2025-06-07T06:05:36.870680Z",
     "iopub.status.busy": "2025-06-07T06:05:36.870413Z",
     "iopub.status.idle": "2025-06-07T06:05:45.674620Z",
     "shell.execute_reply": "2025-06-07T06:05:45.673966Z",
     "shell.execute_reply.started": "2025-06-07T06:05:36.870660Z"
    },
    "trusted": true
   },
   "outputs": [
    {
     "name": "stdout",
     "output_type": "stream",
     "text": [
      "\n",
      "Evaluating FGSM with ε = 0.05\n",
      "Input range: [0.000000, 1.000000]\n",
      "Input mean: 0.104557\n",
      "Input std: 0.286380\n",
      "Latent range: [-20.490953, 0.317475]\n",
      "Latent mean: -3.978285\n",
      "Latent near-zero count: 0/5880000\n",
      "Output range: [0.996273, 1.000000]\n",
      "Output mean: 0.999974\n",
      "Both: 0.8896, Det Only: 0.9943, Ref Only: 0.0974, None: 0.8597\n",
      "\n",
      "Evaluating FGSM with ε = 0.1\n",
      "Input range: [0.000000, 1.000000]\n",
      "Input mean: 0.103113\n",
      "Input std: 0.282219\n",
      "Latent range: [-20.435980, 0.317626]\n",
      "Latent mean: -3.973110\n",
      "Latent near-zero count: 1/5880000\n",
      "Output range: [0.996698, 1.000000]\n",
      "Output mean: 0.999974\n",
      "Both: 0.8995, Det Only: 0.9931, Ref Only: 0.0974, None: 0.8462\n",
      "\n",
      "Evaluating FGSM with ε = 0.2\n",
      "Input range: [0.000000, 1.000000]\n",
      "Input mean: 0.100232\n",
      "Input std: 0.274797\n",
      "Latent range: [-20.374380, 0.316815]\n",
      "Latent mean: -3.962784\n",
      "Latent near-zero count: 3/5880000\n",
      "Output range: [0.996576, 1.000000]\n",
      "Output mean: 0.999974\n",
      "Both: 0.9183, Det Only: 0.9906, Ref Only: 0.0974, None: 0.8070\n",
      "\n",
      "Evaluating FGSM with ε = 0.3\n",
      "Input range: [0.000000, 1.000000]\n",
      "Input mean: 0.097399\n",
      "Input std: 0.268743\n",
      "Latent range: [-20.387547, 0.318019]\n",
      "Latent mean: -3.952632\n",
      "Latent near-zero count: 2/5880000\n",
      "Output range: [0.996535, 1.000000]\n",
      "Output mean: 0.999974\n",
      "Both: 0.9347, Det Only: 0.9890, Ref Only: 0.0974, None: 0.7591\n"
     ]
    }
   ],
   "source": [
    "epsilons = [0.05, 0.1, 0.2, 0.3]\n",
    "results = []\n",
    "\n",
    "for eps in epsilons:\n",
    "    print(f\"\\nEvaluating FGSM with ε = {eps}\")\n",
    "    \n",
    "    # Generate new adversarial examples\n",
    "    adv_images_list = []\n",
    "    adv_labels_list = []\n",
    "\n",
    "    for imgs, labels in dataset.test_loader:\n",
    "        imgs, labels = imgs.to(device), labels.to(device)\n",
    "        adv_imgs = fgsm_attack(classifier, imgs, labels, epsilon=eps)\n",
    "        adv_images_list.append(adv_imgs)\n",
    "        adv_labels_list.append(labels.cpu())\n",
    "\n",
    "    adv_images = torch.cat(adv_images_list, dim=0)\n",
    "    adv_labels = torch.cat(adv_labels_list, dim=0)\n",
    "\n",
    "    test_attack = AttackData(adv_images, adv_labels, name=f\"FGSM ε={eps}\")\n",
    "    evaluator = Evaluator(operator, test_attack)\n",
    "\n",
    "    attack_pass, _ = operator.filter(test_attack.data, thresholds)\n",
    "    accs = evaluator.get_attack_acc(attack_pass)\n",
    "    \n",
    "    print(f\"Both: {accs[0]:.4f}, Det Only: {accs[1]:.4f}, Ref Only: {accs[2]:.4f}, None: {accs[3]:.4f}\")\n",
    "    results.append((eps, accs))"
   ]
  },
  {
   "cell_type": "code",
   "execution_count": 47,
   "metadata": {
    "execution": {
     "iopub.execute_input": "2025-06-07T06:06:04.491614Z",
     "iopub.status.busy": "2025-06-07T06:06:04.491229Z",
     "iopub.status.idle": "2025-06-07T06:06:04.676301Z",
     "shell.execute_reply": "2025-06-07T06:06:04.675593Z",
     "shell.execute_reply.started": "2025-06-07T06:06:04.491581Z"
    },
    "trusted": true
   },
   "outputs": [
    {
     "data": {
      "image/png": "[encoded data removed]",
      "text/plain": [
       "<Figure size 800x500 with 1 Axes>"
      ]
     },
     "metadata": {},
     "output_type": "display_data"
    }
   ],
   "source": [
    "# Plot overall accuracy vs epsilon\n",
    "import matplotlib.pyplot as plt\n",
    "\n",
    "eps_vals = [r[0] for r in results]\n",
    "both_accs = [r[1][0] for r in results]\n",
    "det_accs  = [r[1][1] for r in results]\n",
    "ref_accs  = [r[1][2] for r in results]\n",
    "none_accs = [r[1][3] for r in results]\n",
    "\n",
    "plt.figure(figsize=(8,5))\n",
    "plt.plot(eps_vals, both_accs, 'bo-', label=\"Both\")\n",
    "plt.plot(eps_vals, det_accs,  'go-', label=\"Detector Only\")\n",
    "plt.plot(eps_vals, ref_accs,  'ro-', label=\"Reformer Only\")\n",
    "plt.plot(eps_vals, none_accs, 'ko-', label=\"No Defense\")\n",
    "plt.xlabel(\"Epsilon (ε)\")\n",
    "plt.ylabel(\"Accuracy\")\n",
    "plt.title(\"Defense Performance vs FGSM Strength\")\n",
    "plt.legend()\n",
    "plt.grid(True)\n",
    "plt.show()"
   ]
  },
  {
   "cell_type": "markdown",
   "metadata": {},
   "source": [
    "## PGD"
   ]
  },
  {
   "cell_type": "code",
   "execution_count": 48,
   "metadata": {
    "execution": {
     "iopub.execute_input": "2025-06-07T06:13:35.852111Z",
     "iopub.status.busy": "2025-06-07T06:13:35.851733Z",
     "iopub.status.idle": "2025-06-07T06:13:35.857987Z",
     "shell.execute_reply": "2025-06-07T06:13:35.857313Z",
     "shell.execute_reply.started": "2025-06-07T06:13:35.852088Z"
    },
    "trusted": true
   },
   "outputs": [],
   "source": [
    "def pgd_attack(model, images, labels, epsilon=0.3, alpha=0.01, iters=40):\n",
    "\n",
    "    model.model.eval()\n",
    "    images = images.clone().detach().to(model.device)\n",
    "    labels = labels.to(model.device)\n",
    "    \n",
    "    # Start from random perturbation within epsilon-ball\n",
    "    adv_images = images + 2 * (torch.rand_like(images) - 0.5) * epsilon\n",
    "    adv_images = torch.clamp(adv_images, 0, 1).detach().requires_grad_(True)\n",
    "\n",
    "    for _ in range(iters):\n",
    "        outputs = model.model(adv_images)\n",
    "        loss = F.cross_entropy(outputs, labels)\n",
    "        adv_images.grad = None\n",
    "        loss.backward()\n",
    "\n",
    "        # Gradient step\n",
    "        adv_images = adv_images + alpha * adv_images.grad.sign()\n",
    "        \n",
    "        # Project to ε-ball\n",
    "        delta = torch.clamp(adv_images - images, min=-epsilon, max=epsilon)\n",
    "        adv_images = torch.clamp(images + delta, 0, 1).detach().requires_grad_(True)\n",
    "\n",
    "    return adv_images.detach().cpu()"
   ]
  },
  {
   "cell_type": "code",
   "execution_count": 49,
   "metadata": {
    "execution": {
     "iopub.execute_input": "2025-06-07T06:13:36.638170Z",
     "iopub.status.busy": "2025-06-07T06:13:36.637905Z",
     "iopub.status.idle": "2025-06-07T06:13:50.717448Z",
     "shell.execute_reply": "2025-06-07T06:13:50.716839Z",
     "shell.execute_reply.started": "2025-06-07T06:13:36.638151Z"
    },
    "trusted": true
   },
   "outputs": [],
   "source": [
    "adv_images_list = []\n",
    "adv_labels_list = []\n",
    "\n",
    "for imgs, labels in dataset.test_loader:\n",
    "    imgs, labels = imgs.to(device), labels.to(device)\n",
    "    adv_imgs = pgd_attack(classifier, imgs, labels, epsilon=0.3, alpha=0.01, iters=40)\n",
    "    adv_images_list.append(adv_imgs)\n",
    "    adv_labels_list.append(labels.cpu())\n",
    "\n",
    "adv_images = torch.cat(adv_images_list)\n",
    "adv_labels = torch.cat(adv_labels_list)\n",
    "\n",
    "# Wrap into AttackData\n",
    "test_attack = AttackData(adv_images, adv_labels, name=\"PGD ε=0.3\")"
   ]
  },
  {
   "cell_type": "code",
   "execution_count": 50,
   "metadata": {
    "execution": {
     "iopub.execute_input": "2025-06-07T06:13:50.719288Z",
     "iopub.status.busy": "2025-06-07T06:13:50.718723Z",
     "iopub.status.idle": "2025-06-07T06:13:50.935372Z",
     "shell.execute_reply": "2025-06-07T06:13:50.934767Z",
     "shell.execute_reply.started": "2025-06-07T06:13:50.719260Z"
    },
    "trusted": true
   },
   "outputs": [
    {
     "name": "stdout",
     "output_type": "stream",
     "text": [
      "Input range: [0.000000, 1.000000]\n",
      "Input mean: 0.091125\n",
      "Input std: 0.252396\n",
      "Latent range: [-20.305576, 0.315669]\n",
      "Latent mean: -3.930155\n",
      "Latent near-zero count: 0/5880000\n",
      "Output range: [0.996992, 1.000000]\n",
      "Output mean: 0.999974\n",
      "PGD ε=0.3:\n",
      "  Both accuracy:       0.9504\n",
      "  Detector only:       0.9595\n",
      "  Reformer only:       0.0974\n",
      "  No defense accuracy: 0.3241\n"
     ]
    }
   ],
   "source": [
    "evaluator = Evaluator(operator, test_attack)\n",
    "thresholds = {\"I\": 0.85, \"II\": 0.85}\n",
    "attack_pass, _ = operator.filter(test_attack.data, thresholds)\n",
    "\n",
    "both_acc, det_only_acc, ref_only_acc, none_acc = evaluator.get_attack_acc(attack_pass)\n",
    "\n",
    "print(f\"PGD ε=0.3:\")\n",
    "print(f\"  Both accuracy:       {both_acc:.4f}\")\n",
    "print(f\"  Detector only:       {det_only_acc:.4f}\")\n",
    "print(f\"  Reformer only:       {ref_only_acc:.4f}\")\n",
    "print(f\"  No defense accuracy: {none_acc:.4f}\")"
   ]
  },
  {
   "cell_type": "code",
   "execution_count": 52,
   "metadata": {
    "execution": {
     "iopub.execute_input": "2025-06-07T06:19:22.357079Z",
     "iopub.status.busy": "2025-06-07T06:19:22.356783Z",
     "iopub.status.idle": "2025-06-07T06:19:22.556128Z",
     "shell.execute_reply": "2025-06-07T06:19:22.555537Z",
     "shell.execute_reply.started": "2025-06-07T06:19:22.357059Z"
    },
    "trusted": true
   },
   "outputs": [
    {
     "name": "stdout",
     "output_type": "stream",
     "text": [
      "Input range: [-1.000000, 1.000000]\n",
      "Input mean: -0.815386\n",
      "Input std: 0.517823\n",
      "Latent range: [-17.571587, 1.241474]\n",
      "Latent mean: -0.698076\n",
      "Latent near-zero count: 0/588\n",
      "Output range: [0.000000, 1.000000]\n",
      "Output mean: 0.217271\n"
     ]
    },
    {
     "data": {
      "image/png": "[encoded data removed]",
      "text/plain": [
       "<Figure size 600x400 with 2 Axes>"
      ]
     },
     "metadata": {},
     "output_type": "display_data"
    }
   ],
   "source": [
    "img = dataset.test_loader.dataset[0][0].unsqueeze(0).to(device)\n",
    "recon = reformer.heal(img).squeeze().cpu().numpy()\n",
    "\n",
    "plt.subplot(1,2,1); plt.imshow(img.squeeze().cpu(), cmap=\"gray\"); plt.title(\"Input\")\n",
    "plt.subplot(1,2,2); plt.imshow(recon, cmap=\"gray\"); plt.title(\"Reconstruction\")\n",
    "plt.show()"
   ]
  },
  {
   "cell_type": "code",
   "execution_count": null,
   "metadata": {
    "trusted": true
   },
   "outputs": [],
   "source": []
  }
 ],
 "metadata": {
  "kaggle": {
   "accelerator": "gpu",
   "dataSources": [
    {
     "isSourceIdPinned": true,
     "modelId": 369550,
     "modelInstanceId": 348284,
     "sourceId": 427246,
     "sourceType": "modelInstanceVersion"
    }
   ],
   "dockerImageVersionId": 31041,
   "isGpuEnabled": true,
   "isInternetEnabled": true,
   "language": "python",
   "sourceType": "notebook"
  },
  "kernelspec": {
   "display_name": "Python 3",
   "language": "python",
   "name": "python3"
  },
  "language_info": {
   "codemirror_mode": {
    "name": "ipython",
    "version": 3
   },
   "file_extension": ".py",
   "mimetype": "text/x-python",
   "name": "python",
   "nbconvert_exporter": "python",
   "pygments_lexer": "ipython3",
   "version": "3.11.11"
  }
 },
 "nbformat": 4,
 "nbformat_minor": 4
}
