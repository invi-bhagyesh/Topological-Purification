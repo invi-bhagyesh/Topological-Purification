{
 "cells": [
  {
   "cell_type": "code",
   "execution_count": 14,
   "metadata": {
    "_cell_guid": "b1076dfc-b9ad-4769-8c92-a6c4dae69d19",
    "_uuid": "8f2839f25d086af736a60e9eeb907d3b93b6e0e5",
    "execution": {
     "iopub.execute_input": "2025-06-05T09:42:51.963561Z",
     "iopub.status.busy": "2025-06-05T09:42:51.962932Z",
     "iopub.status.idle": "2025-06-05T09:42:51.973679Z",
     "shell.execute_reply": "2025-06-05T09:42:51.972750Z",
     "shell.execute_reply.started": "2025-06-05T09:42:51.963533Z"
    },
    "trusted": true
   },
   "outputs": [],
   "source": [
    "import sys\n",
    "sys.path.append('/kaggle/input/required4')\n",
    "import torch\n",
    "import torch.nn as nn\n",
    "import torch.optim as optim\n",
    "import torch.nn.functional as F\n",
    "import os\n",
    "from torch.utils.data import DataLoader, TensorDataset, random_split\n",
    "from dataloader import MNIST  \n",
    "from model import CNNClassifier  \n",
    "\n",
    "def train(data, file_name, params, num_epochs=50, batch_size=128, device=None):\n",
    "    if device is None:\n",
    "        device = torch.device(\"cuda\" if torch.cuda.is_available() else \"cpu\")\n",
    "\n",
    "   \n",
    "    model = CNNClassifier(params).to(device)\n",
    "\n",
    "\n",
    "    train_loader = data.train_loader\n",
    "    val_loader = data.validation_loader\n",
    "\n",
    "    \n",
    "    criterion = nn.CrossEntropyLoss()\n",
    "    optimizer = optim.SGD(model.parameters(), lr=0.01, momentum=0.9, weight_decay=1e-6, nesterov=True)\n",
    "\n",
    "   \n",
    "    for epoch in range(num_epochs):\n",
    "        model.train()\n",
    "        running_loss = 0.0\n",
    "        correct = 0\n",
    "        total = 0\n",
    "        for inputs, labels in data.train_loader:\n",
    "            inputs, labels = inputs.to(device), labels.to(device)\n",
    "\n",
    "            optimizer.zero_grad()\n",
    "            outputs = model(inputs)\n",
    "            loss = criterion(outputs, labels)\n",
    "            loss.backward()\n",
    "            optimizer.step()\n",
    "\n",
    "            running_loss += loss.item()\n",
    "            _, predicted = torch.max(outputs.data, 1)\n",
    "            total += labels.size(0)\n",
    "            correct += (predicted == labels).sum().item()\n",
    "\n",
    "        val_acc = evaluate(model, val_loader, device)\n",
    "        print(f\"Epoch {epoch+1}/{num_epochs}, Loss: {running_loss/len(train_loader):.4f}, \"\n",
    "              f\"Train Acc: {correct/total:.4f}, Val Acc: {val_acc:.4f}\")\n",
    "\n",
    "   \n",
    "    if file_name is not None:\n",
    "        torch.save(model.state_dict(), file_name)\n",
    "\n",
    "    return model\n",
    "\n",
    "def evaluate(model, dataloader, device):\n",
    "    model.eval()\n",
    "    correct = 0\n",
    "    total = 0\n",
    "    with torch.no_grad():\n",
    "        for inputs, labels in dataloader:\n",
    "            inputs, labels = inputs.to(device), labels.to(device)\n",
    "            outputs = model(inputs)\n",
    "            _, predicted = torch.max(outputs.data, 1)\n",
    "            total += labels.size(0)\n",
    "            correct += (predicted == labels).sum().item()\n",
    "    return correct / total\n",
    "\n",
    "\n",
    "\n",
    " \n"
   ]
  },
  {
   "cell_type": "code",
   "execution_count": 15,
   "metadata": {
    "execution": {
     "iopub.execute_input": "2025-06-05T09:42:52.480742Z",
     "iopub.status.busy": "2025-06-05T09:42:52.480140Z",
     "iopub.status.idle": "2025-06-05T09:42:52.485038Z",
     "shell.execute_reply": "2025-06-05T09:42:52.484410Z",
     "shell.execute_reply.started": "2025-06-05T09:42:52.480720Z"
    },
    "trusted": true
   },
   "outputs": [
    {
     "name": "stdout",
     "output_type": "stream",
     "text": [
      "Current working directory: /kaggle/working\n",
      "Files in current directory: ['models', '.virtual_documents', 'MNIST']\n"
     ]
    }
   ],
   "source": [
    "print(\"Current working directory:\", os.getcwd())\n",
    "\n",
    "# List files in current directory\n",
    "print(\"Files in current directory:\", os.listdir('.'))\n"
   ]
  },
  {
   "cell_type": "code",
   "execution_count": 16,
   "metadata": {
    "execution": {
     "iopub.execute_input": "2025-06-05T09:42:52.929605Z",
     "iopub.status.busy": "2025-06-05T09:42:52.929098Z",
     "iopub.status.idle": "2025-06-05T09:42:52.934893Z",
     "shell.execute_reply": "2025-06-05T09:42:52.934293Z",
     "shell.execute_reply.started": "2025-06-05T09:42:52.929582Z"
    },
    "trusted": true
   },
   "outputs": [
    {
     "name": "stdout",
     "output_type": "stream",
     "text": [
      "import torch\n",
      "from torchvision import datasets, transforms\n",
      "from torch.utils.data import DataLoader, random_split\n",
      "\n",
      "class MNIST:\n",
      "    def __init__(self, batch_size=128):\n",
      "        # Define transformations\n",
      "        transform = transforms.Compose([\n",
      "            transforms.ToTensor(),\n",
      "            transforms.Normalize((0.5,), (0.5,))\n",
      "        ])\n",
      "\n",
      "        # Automatically downloads if not available\n",
      "        full_train = datasets.MNIST(root='/kaggle/working', train=True, download=True, transform=transform)\n",
      "        self.test_data = datasets.MNIST(root='/kaggle/working', train=False, download=True, transform=transform)\n",
      "\n",
      "        # Split training and validation sets\n",
      "        val_size = 5000\n",
      "        train_size = len(full_train) - val_size\n",
      "        self.train_data, self.validation_data = random_split(full_train, [train_size, val_size])\n",
      "\n",
      "        # DataLoaders\n",
      "        self.train_loader = DataLoader(self.train_data, batch_size=batch_size, shuffle=True)\n",
      "        self.validation_loader = DataLoader(self.validation_data, batch_size=batch_size)\n",
      "        self.test_loader = DataLoader(self.test_data, batch_size=batch_size)\n",
      "\n",
      "    @staticmethod\n",
      "    def print():\n",
      "        return \"MNIST dataset loaded.\"\n",
      "\n"
     ]
    }
   ],
   "source": [
    "print(open('/kaggle/input/required4/dataloader.py').read())"
   ]
  },
  {
   "cell_type": "code",
   "execution_count": 17,
   "metadata": {
    "execution": {
     "iopub.execute_input": "2025-06-05T09:42:53.384607Z",
     "iopub.status.busy": "2025-06-05T09:42:53.384354Z",
     "iopub.status.idle": "2025-06-05T09:54:02.369170Z",
     "shell.execute_reply": "2025-06-05T09:54:02.368469Z",
     "shell.execute_reply.started": "2025-06-05T09:42:53.384590Z"
    },
    "trusted": true
   },
   "outputs": [
    {
     "name": "stdout",
     "output_type": "stream",
     "text": [
      "Epoch 1/50, Loss: 1.1315, Train Acc: 0.6003, Val Acc: 0.9614\n",
      "Epoch 2/50, Loss: 0.1358, Train Acc: 0.9594, Val Acc: 0.9774\n",
      "Epoch 3/50, Loss: 0.0912, Train Acc: 0.9725, Val Acc: 0.9848\n",
      "Epoch 4/50, Loss: 0.0700, Train Acc: 0.9789, Val Acc: 0.9844\n",
      "Epoch 5/50, Loss: 0.0580, Train Acc: 0.9827, Val Acc: 0.9870\n",
      "Epoch 6/50, Loss: 0.0492, Train Acc: 0.9848, Val Acc: 0.9894\n",
      "Epoch 7/50, Loss: 0.0445, Train Acc: 0.9866, Val Acc: 0.9870\n",
      "Epoch 8/50, Loss: 0.0383, Train Acc: 0.9885, Val Acc: 0.9866\n",
      "Epoch 9/50, Loss: 0.0332, Train Acc: 0.9894, Val Acc: 0.9890\n",
      "Epoch 10/50, Loss: 0.0305, Train Acc: 0.9902, Val Acc: 0.9890\n",
      "Epoch 11/50, Loss: 0.0265, Train Acc: 0.9915, Val Acc: 0.9900\n",
      "Epoch 12/50, Loss: 0.0252, Train Acc: 0.9919, Val Acc: 0.9888\n",
      "Epoch 13/50, Loss: 0.0235, Train Acc: 0.9925, Val Acc: 0.9904\n",
      "Epoch 14/50, Loss: 0.0206, Train Acc: 0.9936, Val Acc: 0.9898\n",
      "Epoch 15/50, Loss: 0.0200, Train Acc: 0.9939, Val Acc: 0.9890\n",
      "Epoch 16/50, Loss: 0.0184, Train Acc: 0.9942, Val Acc: 0.9910\n",
      "Epoch 17/50, Loss: 0.0170, Train Acc: 0.9947, Val Acc: 0.9900\n",
      "Epoch 18/50, Loss: 0.0165, Train Acc: 0.9943, Val Acc: 0.9896\n",
      "Epoch 19/50, Loss: 0.0144, Train Acc: 0.9952, Val Acc: 0.9906\n",
      "Epoch 20/50, Loss: 0.0146, Train Acc: 0.9953, Val Acc: 0.9896\n",
      "Epoch 21/50, Loss: 0.0127, Train Acc: 0.9957, Val Acc: 0.9908\n",
      "Epoch 22/50, Loss: 0.0126, Train Acc: 0.9959, Val Acc: 0.9914\n",
      "Epoch 23/50, Loss: 0.0107, Train Acc: 0.9964, Val Acc: 0.9898\n",
      "Epoch 24/50, Loss: 0.0102, Train Acc: 0.9964, Val Acc: 0.9912\n",
      "Epoch 25/50, Loss: 0.0093, Train Acc: 0.9969, Val Acc: 0.9894\n",
      "Epoch 26/50, Loss: 0.0089, Train Acc: 0.9969, Val Acc: 0.9908\n",
      "Epoch 27/50, Loss: 0.0097, Train Acc: 0.9968, Val Acc: 0.9910\n",
      "Epoch 28/50, Loss: 0.0096, Train Acc: 0.9969, Val Acc: 0.9908\n",
      "Epoch 29/50, Loss: 0.0091, Train Acc: 0.9968, Val Acc: 0.9912\n",
      "Epoch 30/50, Loss: 0.0079, Train Acc: 0.9973, Val Acc: 0.9908\n",
      "Epoch 31/50, Loss: 0.0077, Train Acc: 0.9974, Val Acc: 0.9892\n",
      "Epoch 32/50, Loss: 0.0080, Train Acc: 0.9971, Val Acc: 0.9908\n",
      "Epoch 33/50, Loss: 0.0071, Train Acc: 0.9977, Val Acc: 0.9912\n",
      "Epoch 34/50, Loss: 0.0064, Train Acc: 0.9977, Val Acc: 0.9918\n",
      "Epoch 35/50, Loss: 0.0070, Train Acc: 0.9975, Val Acc: 0.9920\n",
      "Epoch 36/50, Loss: 0.0056, Train Acc: 0.9979, Val Acc: 0.9910\n",
      "Epoch 37/50, Loss: 0.0069, Train Acc: 0.9976, Val Acc: 0.9906\n",
      "Epoch 38/50, Loss: 0.0070, Train Acc: 0.9977, Val Acc: 0.9922\n",
      "Epoch 39/50, Loss: 0.0063, Train Acc: 0.9977, Val Acc: 0.9914\n",
      "Epoch 40/50, Loss: 0.0058, Train Acc: 0.9980, Val Acc: 0.9906\n",
      "Epoch 41/50, Loss: 0.0054, Train Acc: 0.9980, Val Acc: 0.9906\n",
      "Epoch 42/50, Loss: 0.0051, Train Acc: 0.9982, Val Acc: 0.9918\n",
      "Epoch 43/50, Loss: 0.0049, Train Acc: 0.9985, Val Acc: 0.9918\n",
      "Epoch 44/50, Loss: 0.0055, Train Acc: 0.9980, Val Acc: 0.9914\n",
      "Epoch 45/50, Loss: 0.0039, Train Acc: 0.9985, Val Acc: 0.9920\n",
      "Epoch 46/50, Loss: 0.0042, Train Acc: 0.9984, Val Acc: 0.9922\n",
      "Epoch 47/50, Loss: 0.0058, Train Acc: 0.9982, Val Acc: 0.9914\n",
      "Epoch 48/50, Loss: 0.0049, Train Acc: 0.9982, Val Acc: 0.9912\n",
      "Epoch 49/50, Loss: 0.0056, Train Acc: 0.9981, Val Acc: 0.9926\n",
      "Epoch 50/50, Loss: 0.0050, Train Acc: 0.9985, Val Acc: 0.9922\n"
     ]
    },
    {
     "data": {
      "text/plain": [
       "CNNClassifier(\n",
       "  (conv1): Conv2d(1, 32, kernel_size=(3, 3), stride=(1, 1))\n",
       "  (conv2): Conv2d(32, 32, kernel_size=(3, 3), stride=(1, 1))\n",
       "  (pool1): MaxPool2d(kernel_size=2, stride=2, padding=0, dilation=1, ceil_mode=False)\n",
       "  (conv3): Conv2d(32, 64, kernel_size=(3, 3), stride=(1, 1))\n",
       "  (conv4): Conv2d(64, 64, kernel_size=(3, 3), stride=(1, 1))\n",
       "  (pool2): MaxPool2d(kernel_size=2, stride=2, padding=0, dilation=1, ceil_mode=False)\n",
       "  (fc1): Linear(in_features=1024, out_features=200, bias=True)\n",
       "  (dropout): Dropout(p=0.5, inplace=False)\n",
       "  (fc2): Linear(in_features=200, out_features=200, bias=True)\n",
       "  (fc3): Linear(in_features=200, out_features=10, bias=True)\n",
       ")"
      ]
     },
     "execution_count": 17,
     "metadata": {},
     "output_type": "execute_result"
    }
   ],
   "source": [
    "if not os.path.isdir('models'):\n",
    "    os.makedirs('models')\n",
    "\n",
    "# Call training function\n",
    "train(MNIST(), \"models/example_classifier.pth\", [32, 32, 64, 64, 200, 200], num_epochs=50)"
   ]
  },
  {
   "cell_type": "code",
   "execution_count": null,
   "metadata": {
    "trusted": true
   },
   "outputs": [],
   "source": []
  }
 ],
 "metadata": {
  "kaggle": {
   "accelerator": "gpu",
   "dataSources": [
    {
     "datasetId": 7596268,
     "sourceId": 12068282,
     "sourceType": "datasetVersion"
    }
   ],
   "dockerImageVersionId": 31041,
   "isGpuEnabled": true,
   "isInternetEnabled": true,
   "language": "python",
   "sourceType": "notebook"
  },
  "kernelspec": {
   "display_name": "Python 3",
   "language": "python",
   "name": "python3"
  },
  "language_info": {
   "codemirror_mode": {
    "name": "ipython",
    "version": 3
   },
   "file_extension": ".py",
   "mimetype": "text/x-python",
   "name": "python",
   "nbconvert_exporter": "python",
   "pygments_lexer": "ipython3",
   "version": "3.11.11"
  }
 },
 "nbformat": 4,
 "nbformat_minor": 4
}
